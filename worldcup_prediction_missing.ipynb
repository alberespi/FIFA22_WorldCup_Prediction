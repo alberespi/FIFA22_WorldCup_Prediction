{
 "cells": [
  {
   "cell_type": "code",
   "execution_count": null,
   "metadata": {},
   "outputs": [],
   "source": [
    "import pandas as pd\n",
    "import pickle\n",
    "from scipy.stats import poisson\n",
    "import numpy as np"
   ]
  },
  {
   "cell_type": "markdown",
   "metadata": {},
   "source": [
    "### **DECLARACION DE VARIABLES**"
   ]
  },
  {
   "cell_type": "code",
   "execution_count": null,
   "metadata": {},
   "outputs": [],
   "source": [
    "group_dict = pickle.load(open('groups_dict', 'rb'))\n",
    "df_historical = pd.read_csv('clean_fifa_worldcup_matches.csv')\n",
    "df_fixture = pd.read_csv('clean_fifa_worldcup_fixture.csv')"
   ]
  },
  {
   "cell_type": "code",
   "execution_count": null,
   "metadata": {},
   "outputs": [],
   "source": [
    "df_historical"
   ]
  },
  {
   "cell_type": "markdown",
   "metadata": {},
   "source": [
    "### **DECLARACION DE FUNCION QUE GENERA MISSING VALUES**"
   ]
  },
  {
   "cell_type": "code",
   "execution_count": null,
   "metadata": {},
   "outputs": [],
   "source": [
    "def insert_nan(df, mcar_percentage=0.5, mar_percentage=0.5, mnar_percentage=0.5):\n",
    "    \"\"\"Inserts NaN values into a Pandas dataframe.\n",
    "\n",
    "    Args:\n",
    "        df: A Pandas dataframe.\n",
    "        mcar_percentage: The percentage of Missing Completely at Random (MCAR) values to be inserted.\n",
    "        mar_percentage: The percentage of Missing at Random (MAR) values to be inserted.\n",
    "        mnar_percentage: The percentage of Missing Not at Random (MNAR) values to be inserted.\n",
    "\n",
    "    Returns:\n",
    "        A tuple of three dataframes, each with a different type of missing values.\n",
    "    \"\"\"\n",
    "    # Make copies of the original dataframe\n",
    "    df_mcar = df.copy()\n",
    "    df_mar = df.copy()\n",
    "    df_mnar = df.copy()\n",
    "    \n",
    "    # Calculate the number of missing values to insert for each dataframe\n",
    "    mcar_count = int(mcar_percentage * df.size)\n",
    "    mar_count = int(mar_percentage * df.size)\n",
    "    mnar_count = int(mnar_percentage * df.size)\n",
    "    \n",
    "    # Insert MCAR values\n",
    "    # Select random indices and columns for the missing values\n",
    "    mcar_indices = np.random.choice(df_mcar.index.values, mcar_count, replace=True)\n",
    "    mcar_columns = np.random.choice(df_mcar.columns.values, mcar_count, replace=True)\n",
    "    # Insert the missing values\n",
    "    for i, c in zip(mcar_indices, mcar_columns):\n",
    "        df_mcar.loc[i, c] = np.nan\n",
    "    \n",
    "    # Insert MAR values\n",
    "    # Select random columns for the missing values\n",
    "    mar_columns = np.random.choice(df_mar.columns.values, mar_count, replace=True)\n",
    "    # Insert the missing values at random indices for the selected columns\n",
    "    for c in mar_columns:\n",
    "        mar_indices = np.random.choice(df_mar[c].index.values, mar_count, replace=True)\n",
    "        for i in mar_indices:\n",
    "            df_mar.loc[i, c] = np.nan\n",
    "    \n",
    "    # Insert MNAR values\n",
    "    # Select random rows for the missing values\n",
    "    mnar_indices = np.random.choice(df_mnar.index.values, mnar_count, replace=True)\n",
    "    # Insert the missing values at random columns for the selected rows\n",
    "    for i in mnar_indices:\n",
    "        mnar_columns = np.random.choice(df_mnar.columns.values, mnar_count, replace=True)\n",
    "        for c in mnar_columns:\n",
    "            df_mnar.loc[i, c] = np.nan\n",
    "    \n",
    "    return df_mcar, df_mar, df_mnar"
   ]
  },
  {
   "cell_type": "markdown",
   "metadata": {},
   "source": [
    "### **GENERACION DE DATAFRAMES CON DIFERENTES TIPOS DE MISSING VALUES**"
   ]
  },
  {
   "cell_type": "code",
   "execution_count": null,
   "metadata": {},
   "outputs": [],
   "source": [
    "df_historical_mcar, df_historical_mar, df_historical_mnar = insert_nan(df_historical)"
   ]
  },
  {
   "cell_type": "code",
   "execution_count": null,
   "metadata": {},
   "outputs": [],
   "source": [
    "df_historical_mcar"
   ]
  },
  {
   "cell_type": "code",
   "execution_count": null,
   "metadata": {},
   "outputs": [],
   "source": [
    "df_historical_mar"
   ]
  },
  {
   "cell_type": "code",
   "execution_count": null,
   "metadata": {},
   "outputs": [],
   "source": [
    "df_historical_mnar"
   ]
  }
 ],
 "metadata": {
  "kernelspec": {
   "display_name": "Python 3.7.3 ('tfg_venv')",
   "language": "python",
   "name": "python3"
  },
  "language_info": {
   "codemirror_mode": {
    "name": "ipython",
    "version": 3
   },
   "file_extension": ".py",
   "mimetype": "text/x-python",
   "name": "python",
   "nbconvert_exporter": "python",
   "pygments_lexer": "ipython3",
   "version": "3.7.3"
  },
  "orig_nbformat": 4,
  "vscode": {
   "interpreter": {
    "hash": "1505fe0e8892cc61459a21dc71f93728f980a5e0b826845cf3d49602de12a718"
   }
  }
 },
 "nbformat": 4,
 "nbformat_minor": 2
}
