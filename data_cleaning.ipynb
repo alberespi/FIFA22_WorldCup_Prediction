{
 "cells": [
  {
   "cell_type": "code",
   "execution_count": null,
   "metadata": {},
   "outputs": [],
   "source": [
    "import pandas as pd"
   ]
  },
  {
   "cell_type": "code",
   "execution_count": null,
   "metadata": {},
   "outputs": [],
   "source": [
    "df_historical = pd.read_csv('worldcup_historical_data.csv')\n",
    "df_fixture_2022 = pd.read_csv('worldcup2022_fixture.csv')\n",
    "df_missing_data = pd.read_csv('worldcup_historical_missing_data.csv')"
   ]
  },
  {
   "cell_type": "code",
   "execution_count": null,
   "metadata": {},
   "outputs": [],
   "source": [
    "df_fixture_2022['home'] = df_fixture_2022['home'].str.strip()\n",
    "df_fixture_2022['away'] = df_fixture_2022['away'].str.strip()"
   ]
  },
  {
   "cell_type": "code",
   "execution_count": null,
   "metadata": {},
   "outputs": [],
   "source": [
    "df_missing_data.dropna(inplace=True)\n",
    "df_historical = pd.concat([df_historical, df_missing_data], ignore_index=True)\n",
    "df_historical.drop_duplicates(inplace=True)\n",
    "df_historical.sort_values('year', inplace=True)\n",
    "df_historical"
   ]
  },
  {
   "cell_type": "code",
   "execution_count": null,
   "metadata": {},
   "outputs": [],
   "source": [
    "delete_index = df_historical[df_historical['home'].str.contains('Sweden') &\n",
    "                             df_historical['away'].str.contains('Austria')].index\n",
    "\n",
    "df_historical.drop(index=delete_index, inplace=True)\n",
    "df_historical"
   ]
  },
  {
   "cell_type": "code",
   "execution_count": null,
   "metadata": {},
   "outputs": [],
   "source": [
    "df_historical['score'] = df_historical['score'].str.replace(\"[^\\\\d-]\", '', regex=True)\n",
    "df_historical"
   ]
  },
  {
   "cell_type": "code",
   "execution_count": null,
   "metadata": {},
   "outputs": [],
   "source": [
    "df_historical['home'] = df_historical['home'].str.strip()\n",
    "df_historical['away'] = df_historical['away'].str.strip()\n",
    "df_historical"
   ]
  },
  {
   "cell_type": "code",
   "execution_count": null,
   "metadata": {},
   "outputs": [],
   "source": [
    "df_historical['score'].unique()"
   ]
  },
  {
   "cell_type": "code",
   "execution_count": null,
   "metadata": {},
   "outputs": [],
   "source": [
    "delete_index = df_historical[df_historical['home'].str.contains('Sweden') & \n",
    "                             df_historical['away'].str.contains('Austria')].index\n",
    "\n",
    "df_historical.drop(index=delete_index, inplace=True)\n",
    "\n",
    "df_historical['score'] = df_historical['score'].str.replace('[^\\d-]', ' ', regex=True)\n",
    "df_historical['home'] = df_historical['home'].str.strip()\n",
    "df_historical['away'] = df_historical['away'].str.strip()\n",
    "\n",
    "df_historical[['HomeGoals', 'AwayGoals']] = df_historical['score'].str.split('-', expand=True)\n",
    "df_historical.drop('score', axis=1, inplace=True)\n",
    "\n",
    "df_historical.rename(columns={'home': 'HomeTeam', 'away': 'AwayTeam',\n",
    "                              'year': 'Year'}, inplace=True)\n",
    "df_historical = df_historical.astype({'HomeGoals': int, 'AwayGoals': int, 'Year': int})\n",
    "\n",
    "df_historical['TotalGoals'] = df_historical['HomeGoals'] + df_historical['AwayGoals']\n",
    "df_historical"
   ]
  },
  {
   "cell_type": "code",
   "execution_count": null,
   "metadata": {},
   "outputs": [],
   "source": [
    "df_historical.to_csv('wc_historical_clean.csv', index=False)\n",
    "df_fixture_2022.to_csv('wc2022_fixture_clean.csv', index=False)"
   ]
  },
  {
   "cell_type": "code",
   "execution_count": null,
   "metadata": {},
   "outputs": [],
   "source": []
  }
 ],
 "metadata": {
  "kernelspec": {
   "display_name": "Python 3.7.3 ('tfg_venv')",
   "language": "python",
   "name": "python3"
  },
  "language_info": {
   "codemirror_mode": {
    "name": "ipython",
    "version": 3
   },
   "file_extension": ".py",
   "mimetype": "text/x-python",
   "name": "python",
   "nbconvert_exporter": "python",
   "pygments_lexer": "ipython3",
   "version": "3.7.3"
  },
  "orig_nbformat": 4,
  "vscode": {
   "interpreter": {
    "hash": "1505fe0e8892cc61459a21dc71f93728f980a5e0b826845cf3d49602de12a718"
   }
  }
 },
 "nbformat": 4,
 "nbformat_minor": 2
}
