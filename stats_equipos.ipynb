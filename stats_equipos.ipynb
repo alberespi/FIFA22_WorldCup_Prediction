{
 "cells": [
  {
   "cell_type": "markdown",
   "metadata": {},
   "source": [
    "# **INDICE**\n",
    "* ### OBJETIVOS\n",
    "* ### DATA PREPARATION\n",
    "* ### ANALISIS"
   ]
  },
  {
   "cell_type": "markdown",
   "metadata": {},
   "source": [
    "## **OBJETIVOS**"
   ]
  },
  {
   "cell_type": "markdown",
   "metadata": {},
   "source": [
    "En este primer notebook se calcula el potencial de los diferetnes equipos clasificados para el Mundial de Qatar 2022 utilizando las estadísticas de los jugadores según el FIFA 23 puesto que son las estadísticas más acutalizadas hasta la fecha."
   ]
  },
  {
   "cell_type": "code",
   "execution_count": 1,
   "metadata": {},
   "outputs": [],
   "source": [
    "import numpy as np\n",
    "import pandas as pd\n",
    "import matplotlib.pyplot as plt\n",
    "import seaborn as sns\n",
    "import os\n",
    "import warnings\n",
    "warnings.filterwarnings('ignore')"
   ]
  },
  {
   "cell_type": "code",
   "execution_count": 2,
   "metadata": {},
   "outputs": [
    {
     "data": {
      "text/plain": [
       "(18539, 89)"
      ]
     },
     "execution_count": 2,
     "metadata": {},
     "output_type": "execute_result"
    }
   ],
   "source": [
    "FIFA23 = pd.read_csv('./data/fifa23.csv')\n",
    "FIFA23.shape"
   ]
  },
  {
   "cell_type": "code",
   "execution_count": 3,
   "metadata": {},
   "outputs": [
    {
     "data": {
      "text/plain": [
       "Index(['Known As', 'Full Name', 'Overall', 'Potential', 'Value(in Euro)',\n",
       "       'Positions Played', 'Best Position', 'Nationality', 'Image Link', 'Age',\n",
       "       'Height(in cm)', 'Weight(in kg)', 'TotalStats', 'BaseStats',\n",
       "       'Club Name', 'Wage(in Euro)', 'Release Clause', 'Club Position',\n",
       "       'Contract Until', 'Club Jersey Number', 'Joined On', 'On Loan',\n",
       "       'Preferred Foot', 'Weak Foot Rating', 'Skill Moves',\n",
       "       'International Reputation', 'National Team Name',\n",
       "       'National Team Image Link', 'National Team Position',\n",
       "       'National Team Jersey Number', 'Attacking Work Rate',\n",
       "       'Defensive Work Rate', 'Pace Total', 'Shooting Total', 'Passing Total',\n",
       "       'Dribbling Total', 'Defending Total', 'Physicality Total', 'Crossing',\n",
       "       'Finishing', 'Heading Accuracy', 'Short Passing', 'Volleys',\n",
       "       'Dribbling', 'Curve', 'Freekick Accuracy', 'LongPassing', 'BallControl',\n",
       "       'Acceleration', 'Sprint Speed', 'Agility', 'Reactions', 'Balance',\n",
       "       'Shot Power', 'Jumping', 'Stamina', 'Strength', 'Long Shots',\n",
       "       'Aggression', 'Interceptions', 'Positioning', 'Vision', 'Penalties',\n",
       "       'Composure', 'Marking', 'Standing Tackle', 'Sliding Tackle',\n",
       "       'Goalkeeper Diving', 'Goalkeeper Handling', ' GoalkeeperKicking',\n",
       "       'Goalkeeper Positioning', 'Goalkeeper Reflexes', 'ST Rating',\n",
       "       'LW Rating', 'LF Rating', 'CF Rating', 'RF Rating', 'RW Rating',\n",
       "       'CAM Rating', 'LM Rating', 'CM Rating', 'RM Rating', 'LWB Rating',\n",
       "       'CDM Rating', 'RWB Rating', 'LB Rating', 'CB Rating', 'RB Rating',\n",
       "       'GK Rating'],\n",
       "      dtype='object')"
      ]
     },
     "execution_count": 3,
     "metadata": {},
     "output_type": "execute_result"
    }
   ],
   "source": [
    "FIFA23.columns"
   ]
  },
  {
   "cell_type": "code",
   "execution_count": 4,
   "metadata": {},
   "outputs": [
    {
     "name": "stdout",
     "output_type": "stream",
     "text": [
      "<class 'pandas.core.frame.DataFrame'>\n",
      "RangeIndex: 18539 entries, 0 to 18538\n",
      "Data columns (total 12 columns):\n",
      " #   Column                    Non-Null Count  Dtype \n",
      "---  ------                    --------------  ----- \n",
      " 0   Known As                  18539 non-null  object\n",
      " 1   Age                       18539 non-null  int64 \n",
      " 2   Nationality               18539 non-null  object\n",
      " 3   Overall                   18539 non-null  int64 \n",
      " 4   Potential                 18539 non-null  int64 \n",
      " 5   Club Name                 18539 non-null  object\n",
      " 6   International Reputation  18539 non-null  int64 \n",
      " 7   Best Position             18539 non-null  object\n",
      " 8   TotalStats                18539 non-null  int64 \n",
      " 9   BaseStats                 18539 non-null  int64 \n",
      " 10  Value(in Euro)            18539 non-null  int64 \n",
      " 11  Wage(in Euro)             18539 non-null  int64 \n",
      "dtypes: int64(8), object(4)\n",
      "memory usage: 1.7+ MB\n"
     ]
    }
   ],
   "source": [
    "interesting_cols = ['Known As', 'Age', 'Nationality', 'Overall', 'Potential', 'Club Name', 'International Reputation', 'Best Position', 'TotalStats', 'BaseStats', 'Value(in Euro)', 'Wage(in Euro)']\n",
    "FIFA23 =pd.DataFrame(FIFA23, columns=interesting_cols)\n",
    "FIFA23.info()"
   ]
  },
  {
   "cell_type": "code",
   "execution_count": 5,
   "metadata": {},
   "outputs": [
    {
     "data": {
      "text/html": [
       "<div>\n",
       "<style scoped>\n",
       "    .dataframe tbody tr th:only-of-type {\n",
       "        vertical-align: middle;\n",
       "    }\n",
       "\n",
       "    .dataframe tbody tr th {\n",
       "        vertical-align: top;\n",
       "    }\n",
       "\n",
       "    .dataframe thead th {\n",
       "        text-align: right;\n",
       "    }\n",
       "</style>\n",
       "<table border=\"1\" class=\"dataframe\">\n",
       "  <thead>\n",
       "    <tr style=\"text-align: right;\">\n",
       "      <th></th>\n",
       "      <th>Known As</th>\n",
       "      <th>Age</th>\n",
       "      <th>Nationality</th>\n",
       "      <th>Overall</th>\n",
       "      <th>Potential</th>\n",
       "      <th>Club Name</th>\n",
       "      <th>International Reputation</th>\n",
       "      <th>Best Position</th>\n",
       "      <th>TotalStats</th>\n",
       "      <th>BaseStats</th>\n",
       "      <th>Value(in Euro)</th>\n",
       "      <th>Wage(in Euro)</th>\n",
       "    </tr>\n",
       "  </thead>\n",
       "  <tbody>\n",
       "    <tr>\n",
       "      <th>0</th>\n",
       "      <td>L. Messi</td>\n",
       "      <td>35</td>\n",
       "      <td>Argentina</td>\n",
       "      <td>91</td>\n",
       "      <td>91</td>\n",
       "      <td>Paris Saint-Germain</td>\n",
       "      <td>5</td>\n",
       "      <td>CAM</td>\n",
       "      <td>2190</td>\n",
       "      <td>452</td>\n",
       "      <td>54000000</td>\n",
       "      <td>195000</td>\n",
       "    </tr>\n",
       "    <tr>\n",
       "      <th>1</th>\n",
       "      <td>K. Benzema</td>\n",
       "      <td>34</td>\n",
       "      <td>France</td>\n",
       "      <td>91</td>\n",
       "      <td>91</td>\n",
       "      <td>Real Madrid CF</td>\n",
       "      <td>4</td>\n",
       "      <td>CF</td>\n",
       "      <td>2147</td>\n",
       "      <td>455</td>\n",
       "      <td>64000000</td>\n",
       "      <td>450000</td>\n",
       "    </tr>\n",
       "    <tr>\n",
       "      <th>2</th>\n",
       "      <td>R. Lewandowski</td>\n",
       "      <td>33</td>\n",
       "      <td>Poland</td>\n",
       "      <td>91</td>\n",
       "      <td>91</td>\n",
       "      <td>FC Barcelona</td>\n",
       "      <td>5</td>\n",
       "      <td>ST</td>\n",
       "      <td>2205</td>\n",
       "      <td>458</td>\n",
       "      <td>84000000</td>\n",
       "      <td>420000</td>\n",
       "    </tr>\n",
       "    <tr>\n",
       "      <th>3</th>\n",
       "      <td>K. De Bruyne</td>\n",
       "      <td>31</td>\n",
       "      <td>Belgium</td>\n",
       "      <td>91</td>\n",
       "      <td>91</td>\n",
       "      <td>Manchester City</td>\n",
       "      <td>4</td>\n",
       "      <td>CM</td>\n",
       "      <td>2303</td>\n",
       "      <td>483</td>\n",
       "      <td>107500000</td>\n",
       "      <td>350000</td>\n",
       "    </tr>\n",
       "    <tr>\n",
       "      <th>4</th>\n",
       "      <td>K. Mbappé</td>\n",
       "      <td>23</td>\n",
       "      <td>France</td>\n",
       "      <td>91</td>\n",
       "      <td>95</td>\n",
       "      <td>Paris Saint-Germain</td>\n",
       "      <td>4</td>\n",
       "      <td>ST</td>\n",
       "      <td>2177</td>\n",
       "      <td>470</td>\n",
       "      <td>190500000</td>\n",
       "      <td>230000</td>\n",
       "    </tr>\n",
       "  </tbody>\n",
       "</table>\n",
       "</div>"
      ],
      "text/plain": [
       "         Known As  Age Nationality  Overall  Potential            Club Name  \\\n",
       "0        L. Messi   35   Argentina       91         91  Paris Saint-Germain   \n",
       "1      K. Benzema   34      France       91         91       Real Madrid CF   \n",
       "2  R. Lewandowski   33      Poland       91         91         FC Barcelona   \n",
       "3    K. De Bruyne   31     Belgium       91         91      Manchester City   \n",
       "4       K. Mbappé   23      France       91         95  Paris Saint-Germain   \n",
       "\n",
       "   International Reputation Best Position  TotalStats  BaseStats  \\\n",
       "0                         5           CAM        2190        452   \n",
       "1                         4            CF        2147        455   \n",
       "2                         5            ST        2205        458   \n",
       "3                         4            CM        2303        483   \n",
       "4                         4            ST        2177        470   \n",
       "\n",
       "   Value(in Euro)  Wage(in Euro)  \n",
       "0        54000000         195000  \n",
       "1        64000000         450000  \n",
       "2        84000000         420000  \n",
       "3       107500000         350000  \n",
       "4       190500000         230000  "
      ]
     },
     "execution_count": 5,
     "metadata": {},
     "output_type": "execute_result"
    }
   ],
   "source": [
    "FIFA23.head()"
   ]
  },
  {
   "cell_type": "markdown",
   "metadata": {},
   "source": [
    "## **DATA PREPARATION**"
   ]
  },
  {
   "cell_type": "markdown",
   "metadata": {},
   "source": [
    "* Se filtra por las selecciones que participan en el torneo."
   ]
  },
  {
   "cell_type": "code",
   "execution_count": 6,
   "metadata": {},
   "outputs": [
    {
     "data": {
      "text/plain": [
       "array(['Argentina', 'France', 'Poland', 'Belgium', 'Germany', 'Portugal',\n",
       "       'Netherlands', 'England', 'Brazil', 'Korea Republic', 'Senegal',\n",
       "       'Costa Rica', 'Croatia', 'Spain', 'Serbia', 'Switzerland',\n",
       "       'Uruguay', 'Ghana', 'Morocco', 'Cameroon', 'Canada', 'Denmark',\n",
       "       'Mexico', 'United States', 'Iran', 'Wales', 'Japan', 'Ecuador',\n",
       "       'Tunisia', 'Australia', 'Saudi Arabia', 'Qatar'], dtype=object)"
      ]
     },
     "execution_count": 6,
     "metadata": {},
     "output_type": "execute_result"
    }
   ],
   "source": [
    "teams = ['Qatar', 'Ecuador', 'Netherlands', 'Senegal',              # GROUP A\n",
    "         'United States', 'Wales', 'England', 'Iran',               # GROUP B\n",
    "         'Saudi Arabia', 'Argentina', 'Mexico', 'Poland',           # GROUP C\n",
    "         'Australia', 'Denmark', 'France', 'Tunisia',               # GROUP D\n",
    "         'Germany', 'Costa Rica', 'Spain', 'Japan',                 # GROUP E\n",
    "         'Belgium', 'Canada', 'Croatia', 'Morocco',                 # GROUP F\n",
    "         'Brazil', 'Cameroon', 'Serbia', 'Switzerland',             # GROUP G\n",
    "         'Korea Republic', 'Ghana', 'Portugal', 'Uruguay']          # GROUP H\n",
    "\n",
    "FIFA23 = FIFA23.rename(columns={'Best Position': 'Position', 'Known As': 'Name'})\n",
    "FIFA23 = FIFA23[(FIFA23['Nationality'].apply(lambda x: x in teams))]\n",
    "FIFA23['Nationality'].unique()\n"
   ]
  },
  {
   "cell_type": "code",
   "execution_count": 7,
   "metadata": {},
   "outputs": [
    {
     "data": {
      "text/html": [
       "<div>\n",
       "<style scoped>\n",
       "    .dataframe tbody tr th:only-of-type {\n",
       "        vertical-align: middle;\n",
       "    }\n",
       "\n",
       "    .dataframe tbody tr th {\n",
       "        vertical-align: top;\n",
       "    }\n",
       "\n",
       "    .dataframe thead th {\n",
       "        text-align: right;\n",
       "    }\n",
       "</style>\n",
       "<table border=\"1\" class=\"dataframe\">\n",
       "  <thead>\n",
       "    <tr style=\"text-align: right;\">\n",
       "      <th></th>\n",
       "      <th>Name</th>\n",
       "      <th>Age</th>\n",
       "      <th>Nationality</th>\n",
       "      <th>Overall</th>\n",
       "      <th>Potential</th>\n",
       "      <th>Club Name</th>\n",
       "      <th>International Reputation</th>\n",
       "      <th>Position</th>\n",
       "      <th>TotalStats</th>\n",
       "      <th>BaseStats</th>\n",
       "      <th>Value(in Euro)</th>\n",
       "      <th>Wage(in Euro)</th>\n",
       "    </tr>\n",
       "  </thead>\n",
       "  <tbody>\n",
       "    <tr>\n",
       "      <th>0</th>\n",
       "      <td>L. Messi</td>\n",
       "      <td>35</td>\n",
       "      <td>Argentina</td>\n",
       "      <td>91</td>\n",
       "      <td>91</td>\n",
       "      <td>Paris Saint-Germain</td>\n",
       "      <td>5</td>\n",
       "      <td>CAM</td>\n",
       "      <td>2190</td>\n",
       "      <td>452</td>\n",
       "      <td>54000000</td>\n",
       "      <td>195000</td>\n",
       "    </tr>\n",
       "    <tr>\n",
       "      <th>1</th>\n",
       "      <td>K. Benzema</td>\n",
       "      <td>34</td>\n",
       "      <td>France</td>\n",
       "      <td>91</td>\n",
       "      <td>91</td>\n",
       "      <td>Real Madrid CF</td>\n",
       "      <td>4</td>\n",
       "      <td>CF</td>\n",
       "      <td>2147</td>\n",
       "      <td>455</td>\n",
       "      <td>64000000</td>\n",
       "      <td>450000</td>\n",
       "    </tr>\n",
       "    <tr>\n",
       "      <th>2</th>\n",
       "      <td>R. Lewandowski</td>\n",
       "      <td>33</td>\n",
       "      <td>Poland</td>\n",
       "      <td>91</td>\n",
       "      <td>91</td>\n",
       "      <td>FC Barcelona</td>\n",
       "      <td>5</td>\n",
       "      <td>ST</td>\n",
       "      <td>2205</td>\n",
       "      <td>458</td>\n",
       "      <td>84000000</td>\n",
       "      <td>420000</td>\n",
       "    </tr>\n",
       "    <tr>\n",
       "      <th>3</th>\n",
       "      <td>K. De Bruyne</td>\n",
       "      <td>31</td>\n",
       "      <td>Belgium</td>\n",
       "      <td>91</td>\n",
       "      <td>91</td>\n",
       "      <td>Manchester City</td>\n",
       "      <td>4</td>\n",
       "      <td>CM</td>\n",
       "      <td>2303</td>\n",
       "      <td>483</td>\n",
       "      <td>107500000</td>\n",
       "      <td>350000</td>\n",
       "    </tr>\n",
       "    <tr>\n",
       "      <th>4</th>\n",
       "      <td>K. Mbappé</td>\n",
       "      <td>23</td>\n",
       "      <td>France</td>\n",
       "      <td>91</td>\n",
       "      <td>95</td>\n",
       "      <td>Paris Saint-Germain</td>\n",
       "      <td>4</td>\n",
       "      <td>ST</td>\n",
       "      <td>2177</td>\n",
       "      <td>470</td>\n",
       "      <td>190500000</td>\n",
       "      <td>230000</td>\n",
       "    </tr>\n",
       "  </tbody>\n",
       "</table>\n",
       "</div>"
      ],
      "text/plain": [
       "             Name  Age Nationality  Overall  Potential            Club Name  \\\n",
       "0        L. Messi   35   Argentina       91         91  Paris Saint-Germain   \n",
       "1      K. Benzema   34      France       91         91       Real Madrid CF   \n",
       "2  R. Lewandowski   33      Poland       91         91         FC Barcelona   \n",
       "3    K. De Bruyne   31     Belgium       91         91      Manchester City   \n",
       "4       K. Mbappé   23      France       91         95  Paris Saint-Germain   \n",
       "\n",
       "   International Reputation Position  TotalStats  BaseStats  Value(in Euro)  \\\n",
       "0                         5      CAM        2190        452        54000000   \n",
       "1                         4       CF        2147        455        64000000   \n",
       "2                         5       ST        2205        458        84000000   \n",
       "3                         4       CM        2303        483       107500000   \n",
       "4                         4       ST        2177        470       190500000   \n",
       "\n",
       "   Wage(in Euro)  \n",
       "0         195000  \n",
       "1         450000  \n",
       "2         420000  \n",
       "3         350000  \n",
       "4         230000  "
      ]
     },
     "execution_count": 7,
     "metadata": {},
     "output_type": "execute_result"
    }
   ],
   "source": [
    "FIFA23.head()"
   ]
  },
  {
   "cell_type": "markdown",
   "metadata": {},
   "source": [
    "## **ANALISIS**"
   ]
  },
  {
   "cell_type": "markdown",
   "metadata": {},
   "source": [
    "### TOP 25 JUGADORES"
   ]
  },
  {
   "cell_type": "code",
   "execution_count": 8,
   "metadata": {},
   "outputs": [
    {
     "data": {
      "text/plain": [
       "Text(0.5, 1.0, 'Top 25 jugadores Mundial Qatar 2022')"
      ]
     },
     "execution_count": 8,
     "metadata": {},
     "output_type": "execute_result"
    },
    {
     "data": {
      "image/png": "[encoded data removed]",
      "text/plain": [
       "<Figure size 640x480 with 1 Axes>"
      ]
     },
     "metadata": {},
     "output_type": "display_data"
    }
   ],
   "source": [
    "overall = FIFA23['Overall'].head(25)\n",
    "players = FIFA23['Name'].head(25)\n",
    "\n",
    "ax = sns.barplot(x=overall, y=players, color='green', orient='h')\n",
    "plt.ylabel('Jugadores', size=20)\n",
    "plt.xlabel('Media', size=20)\n",
    "plt.title('Top 25 jugadores Mundial Qatar 2022')"
   ]
  },
  {
   "cell_type": "markdown",
   "metadata": {},
   "source": [
    "### MEJORES ONCES POR FORMACION"
   ]
  },
  {
   "cell_type": "code",
   "execution_count": 39,
   "metadata": {},
   "outputs": [],
   "source": [
    "def get_best_squad(formation):\n",
    "    fifa23_cp = FIFA23.copy()\n",
    "    aux = []\n",
    "\n",
    "    for pos in formation:\n",
    "        aux.append([\n",
    "            pos,\n",
    "            fifa23_cp.loc[[fifa23_cp[fifa23_cp['Position'] == pos]['Overall'].idxmax()]]['Name'].to_string(index=False),\n",
    "            fifa23_cp[fifa23_cp['Position'] == pos]['Overall'].max(),\n",
    "            fifa23_cp.loc[[fifa23_cp[fifa23_cp['Position'] == pos]['Overall'].idxmax()]]['Age'].to_string(index=False),\n",
    "            fifa23_cp.loc[[fifa23_cp[fifa23_cp['Position'] == pos]['Overall'].idxmax()]]['Club Name'].to_string(index=False),\n",
    "            fifa23_cp.loc[[fifa23_cp[fifa23_cp['Position'] == pos]['Overall'].idxmax()]]['Value(in Euro)'].to_string(index=False),\n",
    "            fifa23_cp.loc[[fifa23_cp[fifa23_cp['Position'] == pos]['Overall'].idxmax()]]['Wage(in Euro)'].to_string(index=False),\n",
    "        ])\n",
    "        fifa23_cp.drop(fifa23_cp[fifa23_cp['Position'] == pos]['Overall'].idxmax(), inplace=True)\n",
    "\n",
    "    return pd.DataFrame(np.array(aux).reshape(11,7),\n",
    "                        columns = ['Position', 'Name', 'Overall', 'Age', 'Club Name', 'Value(in Euro)', 'Wage(in Euro)']).to_string(index = False)"
   ]
  },
  {
   "cell_type": "markdown",
   "metadata": {},
   "source": [
    "**MEJOR 11 CON FORMACION 4-3-3**"
   ]
  },
  {
   "cell_type": "code",
   "execution_count": 40,
   "metadata": {},
   "outputs": [
    {
     "name": "stdout",
     "output_type": "stream",
     "text": [
      "--------------------------------------- 4-3-3 --------------------------------------\n",
      "\n",
      "Position           Name Overall Age           Club Name Value(in Euro) Wage(in Euro)\n",
      "      GK    T. Courtois      90  30      Real Madrid CF       90000000        250000\n",
      "      RB      K. Walker      85  32     Manchester City       37500000        170000\n",
      "      CB    V. van Dijk      90  30           Liverpool       98000000        230000\n",
      "      CB     Rúben Dias      88  25     Manchester City      107500000        230000\n",
      "      LB   João Cancelo      88  28     Manchester City       82500000        250000\n",
      "     CDM       Casemiro      89  30   Manchester United       86000000        240000\n",
      "      CM   K. De Bruyne      91  31     Manchester City      107500000        350000\n",
      "      CM       T. Kroos      88  32      Real Madrid CF       72000000        310000\n",
      "      RW    Á. Di María      84  34            Juventus       20000000        160000\n",
      "      ST R. Lewandowski      91  33        FC Barcelona       84000000        420000\n",
      "      LW      Neymar Jr      89  30 Paris Saint-Germain       99500000        200000\n"
     ]
    }
   ],
   "source": [
    "squad433 = ['GK', 'RB', 'CB', 'CB', 'LB', 'CDM', 'CM', 'CM', 'RW', 'ST', 'LW']\n",
    "print('--------------------------------------- 4-3-3 --------------------------------------\\n')\n",
    "print(get_best_squad(squad433))\n"
   ]
  },
  {
   "cell_type": "markdown",
   "metadata": {},
   "source": [
    "**MEJOR 11 CON FOMRACON 4-4-2**"
   ]
  },
  {
   "cell_type": "code",
   "execution_count": 36,
   "metadata": {},
   "outputs": [
    {
     "name": "stdout",
     "output_type": "stream",
     "text": [
      "--------------------------------------- 4-4-2 --------------------------------------\n",
      "\n",
      "Position           Name Overall Age           Club Name Value(in Euro) Wage(in Euro)\n",
      "      GK    T. Courtois      90  30      Real Madrid CF       90000000        250000\n",
      "      RB      K. Walker      85  32     Manchester City       37500000        170000\n",
      "      CB    V. van Dijk      90  30           Liverpool       98000000        230000\n",
      "      CB     Rúben Dias      88  25     Manchester City      107500000        230000\n",
      "      LB   João Cancelo      88  28     Manchester City       82500000        250000\n",
      "      RM      S. Gnabry      85  26   FC Bayern München       59000000        100000\n",
      "      CM   K. De Bruyne      91  31     Manchester City      107500000        350000\n",
      "      CM       T. Kroos      88  32      Real Madrid CF       72000000        310000\n",
      "      LM        S. Mané      89  30   FC Bayern München       99500000        145000\n",
      "      ST R. Lewandowski      91  33        FC Barcelona       84000000        420000\n",
      "      ST      K. Mbappé      91  23 Paris Saint-Germain      190500000        230000\n"
     ]
    }
   ],
   "source": [
    "squad442 = ['GK', 'RB', 'CB', 'CB', 'LB', 'RM', 'CM', 'CM', 'LM', 'ST', 'ST']\n",
    "print('--------------------------------------- 4-4-2 --------------------------------------\\n')\n",
    "print(get_best_squad(squad442))"
   ]
  },
  {
   "cell_type": "markdown",
   "metadata": {},
   "source": [
    "**MEJOR 11 CON FORMACION 4-2-3-1**"
   ]
  },
  {
   "cell_type": "code",
   "execution_count": 37,
   "metadata": {},
   "outputs": [
    {
     "name": "stdout",
     "output_type": "stream",
     "text": [
      "-------------------------------------- 4-2-3-1 -------------------------------------\n",
      "\n",
      "Position           Name Overall Age           Club Name Value(in Euro) Wage(in Euro)\n",
      "      GK    T. Courtois      90  30      Real Madrid CF       90000000        250000\n",
      "      RB      K. Walker      85  32     Manchester City       37500000        170000\n",
      "      CB    V. van Dijk      90  30           Liverpool       98000000        230000\n",
      "      CB     Rúben Dias      88  25     Manchester City      107500000        230000\n",
      "      LB   João Cancelo      88  28     Manchester City       82500000        250000\n",
      "     CDM       Casemiro      89  30   Manchester United       86000000        240000\n",
      "     CDM     J. Kimmich      89  27   FC Bayern München      105500000        130000\n",
      "     CAM       L. Messi      91  35 Paris Saint-Germain       54000000        195000\n",
      "     CAM Bernardo Silva      88  27     Manchester City       97500000        260000\n",
      "     CAM      T. Müller      87  32   FC Bayern München       63000000        115000\n",
      "      ST R. Lewandowski      91  33        FC Barcelona       84000000        420000\n"
     ]
    }
   ],
   "source": [
    "squad4231 = ['GK', 'RB', 'CB', 'CB', 'LB', 'CDM', 'CDM', 'CAM', 'CAM', 'CAM', 'ST']\n",
    "print('-------------------------------------- 4-2-3-1 -------------------------------------\\n')\n",
    "print(get_best_squad(squad4231))"
   ]
  },
  {
   "cell_type": "markdown",
   "metadata": {},
   "source": [
    "**MEJOR 11 CON FORMACION 4-4-1-1**"
   ]
  },
  {
   "cell_type": "code",
   "execution_count": 38,
   "metadata": {},
   "outputs": [
    {
     "name": "stdout",
     "output_type": "stream",
     "text": [
      "-------------------------------------- 4-4-1-1 -------------------------------------\n",
      "\n",
      "Position           Name Overall Age         Club Name Value(in Euro) Wage(in Euro)\n",
      "      GK    T. Courtois      90  30    Real Madrid CF       90000000        250000\n",
      "      RB      K. Walker      85  32   Manchester City       37500000        170000\n",
      "      CB    V. van Dijk      90  30         Liverpool       98000000        230000\n",
      "      CB     Rúben Dias      88  25   Manchester City      107500000        230000\n",
      "      LB   João Cancelo      88  28   Manchester City       82500000        250000\n",
      "      RM      S. Gnabry      85  26 FC Bayern München       59000000        100000\n",
      "      CM   K. De Bruyne      91  31   Manchester City      107500000        350000\n",
      "      CM       T. Kroos      88  32    Real Madrid CF       72000000        310000\n",
      "      LM        S. Mané      89  30 FC Bayern München       99500000        145000\n",
      "      CF     K. Benzema      91  34    Real Madrid CF       64000000        450000\n",
      "      ST R. Lewandowski      91  33      FC Barcelona       84000000        420000\n"
     ]
    }
   ],
   "source": [
    "squad4411 = ['GK', 'RB', 'CB', 'CB', 'LB', 'RM', 'CM', 'CM', 'LM', 'CF', 'ST']\n",
    "print('-------------------------------------- 4-4-1-1 -------------------------------------\\n')\n",
    "print(get_best_squad(squad4411))"
   ]
  },
  {
   "cell_type": "markdown",
   "metadata": {},
   "source": [
    "## **ANALISIS DE LOS EQUIPOS**\n",
    "### TOP 10 EQUIPOS MAS PROMETEDORES DEL MUNDIAL"
   ]
  },
  {
   "cell_type": "markdown",
   "metadata": {},
   "source": [
    "Definimos una funcion con la que conseguimos la mejor formacion para cada equipo actual y la formacion con mejor potencial de cara a un futuro."
   ]
  },
  {
   "cell_type": "markdown",
   "metadata": {},
   "source": [
    "Definimos tambien una funcion que hace un pequeño resumen de la seleccion dada."
   ]
  },
  {
   "cell_type": "code",
   "execution_count": 41,
   "metadata": {},
   "outputs": [],
   "source": [
    "def get_best_squad(formation, nationality, m = 'Overall'):\n",
    "    fifa23cp = FIFA23.copy()\n",
    "    fifa23cp - fifa23cp[fifa23cp['Nationality'] == nationality]\n",
    "    aux = []\n",
    "\n",
    "    for pos in formation:\n",
    "        aux.append([\n",
    "            fifa23cp.loc[[fifa23cp[fifa23cp['Position'].str.contains(pos)][m].idxmax()]]['Position'].to_string(index = False),\n",
    "            fifa23cp.loc[[fifa23cp[fifa23cp['Position'].str.contains(pos)][m].idxmax()]]['Name'].to_string(index = False), \n",
    "            fifa23cp[fifa23cp['Position'].str.contains(pos)][m].max(),\n",
    "            fifa23cp.loc[[fifa23cp[fifa23cp['Position'].str.contains(pos)][m].idxmax()]]['Age'].to_string(index = False),\n",
    "            fifa23cp.loc[[fifa23cp[fifa23cp['Position'].str.contains(pos)][m].idxmax()]]['Club Name'].to_string(index = False),\n",
    "            fifa23cp.loc[[fifa23cp[fifa23cp['Position'].str.contains(pos)][m].idxmax()]]['Value (in Euro)'].to_string(index = False),\n",
    "            fifa23cp.loc[[fifa23cp[fifa23cp['Position'].str.contains(pos)][m].idxmax()]]['Wage (in Euro)'].to_string(index = False)\n",
    "        ])\n",
    "\n",
    "        fifa23cp.drop(fifa23cp[fifa23cp['Position'].str.contains(pos)][m].idxmax(), inplace = True)\n",
    "\n",
    "    return np.mean([x[2] for x in aux]).round(2), pd.DataFrame(np.array(aux).reshape(11,7), columns=['Position', 'Name', m, 'Age', 'Club Name', 'Value (in Euro)', 'Wage (in Euro)']).to_string(index = False)"
   ]
  },
  {
   "cell_type": "code",
   "execution_count": 42,
   "metadata": {},
   "outputs": [],
   "source": [
    "def get_summary(squad_list, formations, nat_list):\n",
    "    summary = []\n",
    "\n",
    "    for n in nat_list:\n",
    "        count = 0\n",
    "        for s in squad_list:\n",
    "            try:\n",
    "                overall_tmp_rating, _ = get_best_squad(formation=s, nationality=n, m='Overall')\n",
    "                potential_tmp_rating, _ = get_best_squad(formation=s, nationality=n, m='Potential')\n",
    "\n",
    "                summary.append([n, formations[count], overall_tmp_rating.round(2), potential_tmp_rating.round(2)])\n",
    "                count += 1\n",
    "            except:\n",
    "                count += 1\n",
    "    \n",
    "    return summary"
   ]
  },
  {
   "cell_type": "code",
   "execution_count": 43,
   "metadata": {},
   "outputs": [],
   "source": [
    "\n",
    "squad343_options = ['GK', 'CB', 'CB', 'CB', 'RB|RWB', 'CM|CDM', 'CM|CDM', 'LB|LWB', 'RM|RW', 'ST|CF', 'LM|LW']\n",
    "squad442_options = ['GK', 'RB|RWB', 'CB', 'CB', 'LB|LWB', 'RM|RW', 'CM|CDM', 'CM|CAM', 'LM|LW', 'ST|CF', 'ST|CF']\n",
    "squad433_options = ['GK', 'RB|RWB', 'CB', 'CB', 'LB|LWB', 'CM|CDM', 'CM|CAM|CDM', 'CM|CAM|CDM', 'RM|RW', 'ST|CF', 'LM|LW']\n",
    "squad4231_options = ['GK', 'RB|RWB', 'CB', 'CB', 'LB|LWB', 'CM|CDM', 'CM|CDM', 'RM|RW', 'CAM', 'LM|LW', 'ST|CF']\n",
    "squad4312_options = ['GK', 'RB|RWB', 'CB', 'CB', 'LB|LWB', 'CM|CDM', 'CM|CAM|CDM', 'CM|CAM|CDM', 'CAM|CF', 'ST|CF', 'ST|CF']\n",
    "\n",
    "squad_list = [squad343_options, squad442_options, squad433_options, squad4231_options, squad4312_options]\n",
    "formations = ['3-4-3', '4-4-2', '4-3-3', '4-2-3-1', '4-3-1-2']\n"
   ]
  }
 ],
 "metadata": {
  "kernelspec": {
   "display_name": "Python 3.11.0 64-bit",
   "language": "python",
   "name": "python3"
  },
  "language_info": {
   "codemirror_mode": {
    "name": "ipython",
    "version": 3
   },
   "file_extension": ".py",
   "mimetype": "text/x-python",
   "name": "python",
   "nbconvert_exporter": "python",
   "pygments_lexer": "ipython3",
   "version": "3.11.0"
  },
  "orig_nbformat": 4,
  "vscode": {
   "interpreter": {
    "hash": "e48b8bd317650a1c14fb112e65ca9f7cbf894b281901cf84950b246d30fb032a"
   }
  }
 },
 "nbformat": 4,
 "nbformat_minor": 2
}
